{
 "cells": [
  {
   "cell_type": "markdown",
   "metadata": {
    "colab_type": "text",
    "id": "5hIbr52I7Z7U"
   },
   "source": [
    "Deep Learning\n",
    "=============\n",
    "\n",
    "Assignment 1\n",
    "------------\n",
    "\n",
    "The objective of this assignment is to learn about simple data curation practices, and familiarize you with some of the data we'll be reusing later.\n",
    "\n",
    "This notebook uses the [notMNIST](http://yaroslavvb.blogspot.com/2011/09/notmnist-dataset.html) dataset to be used with python experiments. This dataset is designed to look like the classic [MNIST](http://yann.lecun.com/exdb/mnist/) dataset, while looking a little more like real data: it's a harder task, and the data is a lot less 'clean' than MNIST."
   ]
  },
  {
   "cell_type": "code",
   "execution_count": 2,
   "metadata": {
    "cellView": "both",
    "colab": {
     "autoexec": {
      "startup": false,
      "wait_interval": 0
     }
    },
    "colab_type": "code",
    "collapsed": true,
    "id": "apJbCsBHl-2A"
   },
   "outputs": [],
   "source": [
    "# These are all the modules we'll be using later. Make sure you can import them\n",
    "# before proceeding further.\n",
    "from __future__ import print_function\n",
    "import imageio\n",
    "import matplotlib.pyplot as plt\n",
    "import numpy as np\n",
    "import os\n",
    "import sys\n",
    "import tarfile\n",
    "from IPython.display import display, Image\n",
    "from sklearn.linear_model import LogisticRegression\n",
    "from six.moves.urllib.request import urlretrieve\n",
    "from six.moves import cPickle as pickle\n",
    "\n",
    "# Config the matplotlib backend as plotting inline in IPython\n",
    "%matplotlib inline"
   ]
  },
  {
   "cell_type": "markdown",
   "metadata": {
    "colab_type": "text",
    "id": "jNWGtZaXn-5j"
   },
   "source": [
    "First, we'll download the dataset to our local machine. The data consists of characters rendered in a variety of fonts on a 28x28 image. The labels are limited to 'A' through 'J' (10 classes). The training set has about 500k and the testset 19000 labeled examples. Given these sizes, it should be possible to train models quickly on any machine."
   ]
  },
  {
   "cell_type": "code",
   "execution_count": 3,
   "metadata": {
    "cellView": "both",
    "colab": {
     "autoexec": {
      "startup": false,
      "wait_interval": 0
     },
     "output_extras": [
      {
       "item_id": 1
      }
     ]
    },
    "colab_type": "code",
    "executionInfo": {
     "elapsed": 186058,
     "status": "ok",
     "timestamp": 1444485672507,
     "user": {
      "color": "#1FA15D",
      "displayName": "Vincent Vanhoucke",
      "isAnonymous": false,
      "isMe": true,
      "permissionId": "05076109866853157986",
      "photoUrl": "//lh6.googleusercontent.com/-cCJa7dTDcgQ/AAAAAAAAAAI/AAAAAAAACgw/r2EZ_8oYer4/s50-c-k-no/photo.jpg",
      "sessionId": "2a0a5e044bb03b66",
      "userId": "102167687554210253930"
     },
     "user_tz": 420
    },
    "id": "EYRJ4ICW6-da",
    "outputId": "0d0f85df-155f-4a89-8e7e-ee32df36ec8d"
   },
   "outputs": [
    {
     "name": "stdout",
     "output_type": "stream",
     "text": [
      "Found and verified .\\notMNIST_large.tar.gz\n",
      "Found and verified .\\notMNIST_small.tar.gz\n"
     ]
    }
   ],
   "source": [
    "url = 'https://commondatastorage.googleapis.com/books1000/'\n",
    "last_percent_reported = None\n",
    "data_root = '.' # Change me to store data elsewhere\n",
    "\n",
    "def download_progress_hook(count, blockSize, totalSize):\n",
    "  \"\"\"A hook to report the progress of a download. This is mostly intended for users with\n",
    "  slow internet connections. Reports every 5% change in download progress.\n",
    "  \"\"\"\n",
    "  global last_percent_reported\n",
    "  percent = int(count * blockSize * 100 / totalSize)\n",
    "\n",
    "  if last_percent_reported != percent:\n",
    "    if percent % 5 == 0:\n",
    "      sys.stdout.write(\"%s%%\" % percent)\n",
    "      sys.stdout.flush()\n",
    "    else:\n",
    "      sys.stdout.write(\".\")\n",
    "      sys.stdout.flush()\n",
    "      \n",
    "    last_percent_reported = percent\n",
    "        \n",
    "def maybe_download(filename, expected_bytes, force=False):\n",
    "  \"\"\"Download a file if not present, and make sure it's the right size.\"\"\"\n",
    "  dest_filename = os.path.join(data_root, filename)\n",
    "  if force or not os.path.exists(dest_filename):\n",
    "    print('Attempting to download:', filename) \n",
    "    filename, _ = urlretrieve(url + filename, dest_filename, reporthook=download_progress_hook)\n",
    "    print('\\nDownload Complete!')\n",
    "  statinfo = os.stat(dest_filename)\n",
    "  if statinfo.st_size == expected_bytes:\n",
    "    print('Found and verified', dest_filename)\n",
    "  else:\n",
    "    raise Exception(\n",
    "      'Failed to verify ' + dest_filename + '. Can you get to it with a browser?')\n",
    "  return dest_filename\n",
    "\n",
    "train_filename = maybe_download('notMNIST_large.tar.gz', 247336696)\n",
    "test_filename = maybe_download('notMNIST_small.tar.gz', 8458043)"
   ]
  },
  {
   "cell_type": "markdown",
   "metadata": {
    "colab_type": "text",
    "id": "cC3p0oEyF8QT"
   },
   "source": [
    "Extract the dataset from the compressed .tar.gz file.\n",
    "This should give you a set of directories, labeled A through J."
   ]
  },
  {
   "cell_type": "code",
   "execution_count": 4,
   "metadata": {
    "cellView": "both",
    "colab": {
     "autoexec": {
      "startup": false,
      "wait_interval": 0
     },
     "output_extras": [
      {
       "item_id": 1
      }
     ]
    },
    "colab_type": "code",
    "executionInfo": {
     "elapsed": 186055,
     "status": "ok",
     "timestamp": 1444485672525,
     "user": {
      "color": "#1FA15D",
      "displayName": "Vincent Vanhoucke",
      "isAnonymous": false,
      "isMe": true,
      "permissionId": "05076109866853157986",
      "photoUrl": "//lh6.googleusercontent.com/-cCJa7dTDcgQ/AAAAAAAAAAI/AAAAAAAACgw/r2EZ_8oYer4/s50-c-k-no/photo.jpg",
      "sessionId": "2a0a5e044bb03b66",
      "userId": "102167687554210253930"
     },
     "user_tz": 420
    },
    "id": "H8CBE-WZ8nmj",
    "outputId": "ef6c790c-2513-4b09-962e-27c79390c762"
   },
   "outputs": [
    {
     "name": "stdout",
     "output_type": "stream",
     "text": [
      ".\\notMNIST_large already present - Skipping extraction of .\\notMNIST_large.tar.gz.\n",
      "['.\\\\notMNIST_large\\\\A', '.\\\\notMNIST_large\\\\B', '.\\\\notMNIST_large\\\\C', '.\\\\notMNIST_large\\\\D', '.\\\\notMNIST_large\\\\E', '.\\\\notMNIST_large\\\\F', '.\\\\notMNIST_large\\\\G', '.\\\\notMNIST_large\\\\H', '.\\\\notMNIST_large\\\\I', '.\\\\notMNIST_large\\\\J']\n",
      ".\\notMNIST_small already present - Skipping extraction of .\\notMNIST_small.tar.gz.\n",
      "['.\\\\notMNIST_small\\\\A', '.\\\\notMNIST_small\\\\B', '.\\\\notMNIST_small\\\\C', '.\\\\notMNIST_small\\\\D', '.\\\\notMNIST_small\\\\E', '.\\\\notMNIST_small\\\\F', '.\\\\notMNIST_small\\\\G', '.\\\\notMNIST_small\\\\H', '.\\\\notMNIST_small\\\\I', '.\\\\notMNIST_small\\\\J']\n"
     ]
    }
   ],
   "source": [
    "num_classes = 10\n",
    "np.random.seed(133)\n",
    "\n",
    "def maybe_extract(filename, force=False):\n",
    "  root = os.path.splitext(os.path.splitext(filename)[0])[0]  # remove .tar.gz\n",
    "  if os.path.isdir(root) and not force:\n",
    "    # You may override by setting force=True.\n",
    "    print('%s already present - Skipping extraction of %s.' % (root, filename))\n",
    "  else:\n",
    "    print('Extracting data for %s. This may take a while. Please wait.' % root)\n",
    "    tar = tarfile.open(filename)\n",
    "    sys.stdout.flush()\n",
    "    tar.extractall(data_root)\n",
    "    tar.close()\n",
    "  data_folders = [\n",
    "    os.path.join(root, d) for d in sorted(os.listdir(root))\n",
    "    if os.path.isdir(os.path.join(root, d))]\n",
    "  if len(data_folders) != num_classes:\n",
    "    raise Exception(\n",
    "      'Expected %d folders, one per class. Found %d instead.' % (\n",
    "        num_classes, len(data_folders)))\n",
    "  print(data_folders)\n",
    "  return data_folders\n",
    "  \n",
    "train_folders = maybe_extract(train_filename)\n",
    "test_folders = maybe_extract(test_filename)"
   ]
  },
  {
   "cell_type": "markdown",
   "metadata": {
    "colab_type": "text",
    "id": "4riXK3IoHgx6"
   },
   "source": [
    "---\n",
    "Problem 1\n",
    "---------\n",
    "\n",
    "Let's take a peek at some of the data to make sure it looks sensible. Each exemplar should be an image of a character A through J rendered in a different font. Display a sample of the images that we just downloaded. Hint: you can use the package IPython.display.\n",
    "\n",
    "---"
   ]
  },
  {
   "cell_type": "code",
   "execution_count": 5,
   "metadata": {},
   "outputs": [
    {
     "name": "stdout",
     "output_type": "stream",
     "text": [
      "------------testing set------------\n",
      ".\\notMNIST_small\\A\n"
     ]
    },
    {
     "data": {
      "image/png": "[encoded data removed]",
      "text/plain": [
       "<IPython.core.display.Image object>"
      ]
     },
     "metadata": {},
     "output_type": "display_data"
    },
    {
     "name": "stdout",
     "output_type": "stream",
     "text": [
      ".\\notMNIST_small\\B\n"
     ]
    },
    {
     "data": {
      "image/png": "[encoded data removed]",
      "text/plain": [
       "<IPython.core.display.Image object>"
      ]
     },
     "metadata": {},
     "output_type": "display_data"
    },
    {
     "name": "stdout",
     "output_type": "stream",
     "text": [
      ".\\notMNIST_small\\C\n"
     ]
    },
    {
     "data": {
      "image/png": "[encoded data removed]",
      "text/plain": [
       "<IPython.core.display.Image object>"
      ]
     },
     "metadata": {},
     "output_type": "display_data"
    },
    {
     "name": "stdout",
     "output_type": "stream",
     "text": [
      ".\\notMNIST_small\\D\n"
     ]
    },
    {
     "data": {
      "image/png": "[encoded data removed]",
      "text/plain": [
       "<IPython.core.display.Image object>"
      ]
     },
     "metadata": {},
     "output_type": "display_data"
    },
    {
     "name": "stdout",
     "output_type": "stream",
     "text": [
      ".\\notMNIST_small\\E\n"
     ]
    },
    {
     "data": {
      "image/png": "[encoded data removed]",
      "text/plain": [
       "<IPython.core.display.Image object>"
      ]
     },
     "metadata": {},
     "output_type": "display_data"
    },
    {
     "name": "stdout",
     "output_type": "stream",
     "text": [
      ".\\notMNIST_small\\F\n"
     ]
    },
    {
     "data": {
      "image/png": "[encoded data removed]",
      "text/plain": [
       "<IPython.core.display.Image object>"
      ]
     },
     "metadata": {},
     "output_type": "display_data"
    },
    {
     "name": "stdout",
     "output_type": "stream",
     "text": [
      ".\\notMNIST_small\\G\n"
     ]
    },
    {
     "data": {
      "image/png": "[encoded data removed]",
      "text/plain": [
       "<IPython.core.display.Image object>"
      ]
     },
     "metadata": {},
     "output_type": "display_data"
    },
    {
     "name": "stdout",
     "output_type": "stream",
     "text": [
      ".\\notMNIST_small\\H\n"
     ]
    },
    {
     "data": {
      "image/png": "[encoded data removed]",
      "text/plain": [
       "<IPython.core.display.Image object>"
      ]
     },
     "metadata": {},
     "output_type": "display_data"
    },
    {
     "name": "stdout",
     "output_type": "stream",
     "text": [
      ".\\notMNIST_small\\I\n"
     ]
    },
    {
     "data": {
      "image/png": "[encoded data removed]",
      "text/plain": [
       "<IPython.core.display.Image object>"
      ]
     },
     "metadata": {},
     "output_type": "display_data"
    },
    {
     "name": "stdout",
     "output_type": "stream",
     "text": [
      ".\\notMNIST_small\\J\n"
     ]
    },
    {
     "data": {
      "image/png": "[encoded data removed]",
      "text/plain": [
       "<IPython.core.display.Image object>"
      ]
     },
     "metadata": {},
     "output_type": "display_data"
    },
    {
     "name": "stdout",
     "output_type": "stream",
     "text": [
      "------------training set------------\n",
      ".\\notMNIST_large\\A\n"
     ]
    },
    {
     "data": {
      "image/png": "[encoded data removed]",
      "text/plain": [
       "<IPython.core.display.Image object>"
      ]
     },
     "metadata": {},
     "output_type": "display_data"
    },
    {
     "name": "stdout",
     "output_type": "stream",
     "text": [
      ".\\notMNIST_large\\B\n"
     ]
    },
    {
     "data": {
      "image/png": "[encoded data removed]",
      "text/plain": [
       "<IPython.core.display.Image object>"
      ]
     },
     "metadata": {},
     "output_type": "display_data"
    },
    {
     "name": "stdout",
     "output_type": "stream",
     "text": [
      ".\\notMNIST_large\\C\n"
     ]
    },
    {
     "data": {
      "image/png": "[encoded data removed]",
      "text/plain": [
       "<IPython.core.display.Image object>"
      ]
     },
     "metadata": {},
     "output_type": "display_data"
    },
    {
     "name": "stdout",
     "output_type": "stream",
     "text": [
      ".\\notMNIST_large\\D\n"
     ]
    },
    {
     "data": {
      "image/png": "[encoded data removed]",
      "text/plain": [
       "<IPython.core.display.Image object>"
      ]
     },
     "metadata": {},
     "output_type": "display_data"
    },
    {
     "name": "stdout",
     "output_type": "stream",
     "text": [
      ".\\notMNIST_large\\E\n"
     ]
    },
    {
     "data": {
      "image/png": "[encoded data removed]",
      "text/plain": [
       "<IPython.core.display.Image object>"
      ]
     },
     "metadata": {},
     "output_type": "display_data"
    },
    {
     "name": "stdout",
     "output_type": "stream",
     "text": [
      ".\\notMNIST_large\\F\n"
     ]
    },
    {
     "data": {
      "image/png": "[encoded data removed]",
      "text/plain": [
       "<IPython.core.display.Image object>"
      ]
     },
     "metadata": {},
     "output_type": "display_data"
    },
    {
     "name": "stdout",
     "output_type": "stream",
     "text": [
      ".\\notMNIST_large\\G\n"
     ]
    },
    {
     "data": {
      "image/png": "[encoded data removed]",
      "text/plain": [
       "<IPython.core.display.Image object>"
      ]
     },
     "metadata": {},
     "output_type": "display_data"
    },
    {
     "name": "stdout",
     "output_type": "stream",
     "text": [
      ".\\notMNIST_large\\H\n"
     ]
    },
    {
     "data": {
      "image/png": "[encoded data removed]",
      "text/plain": [
       "<IPython.core.display.Image object>"
      ]
     },
     "metadata": {},
     "output_type": "display_data"
    },
    {
     "name": "stdout",
     "output_type": "stream",
     "text": [
      ".\\notMNIST_large\\I\n"
     ]
    },
    {
     "data": {
      "image/png": "[encoded data removed]",
      "text/plain": [
       "<IPython.core.display.Image object>"
      ]
     },
     "metadata": {},
     "output_type": "display_data"
    },
    {
     "name": "stdout",
     "output_type": "stream",
     "text": [
      ".\\notMNIST_large\\J\n"
     ]
    },
    {
     "data": {
      "image/png": "[encoded data removed]",
      "text/plain": [
       "<IPython.core.display.Image object>"
      ]
     },
     "metadata": {},
     "output_type": "display_data"
    }
   ],
   "source": [
    "import random\n",
    "\n",
    "def get_first_image(folder_name):\n",
    "    for folder in folder_name:\n",
    "        print (folder)\n",
    "        file_list = os.listdir(folder)\n",
    "        temp = file_list[random.randrange(len(file_list))]\n",
    "        display(Image(filename = os.path.join(folder,temp)))\n",
    "print(\"------------testing set------------\")        \n",
    "get_first_image(test_folders)\n",
    "print(\"------------training set------------\")\n",
    "get_first_image(train_folders)\n"
   ]
  },
  {
   "cell_type": "markdown",
   "metadata": {
    "colab_type": "text",
    "id": "PBdkjESPK8tw"
   },
   "source": [
    "Now let's load the data in a more manageable format. Since, depending on your computer setup you might not be able to fit it all in memory, we'll load each class into a separate dataset, store them on disk and curate them independently. Later we'll merge them into a single dataset of manageable size.\n",
    "\n",
    "We'll convert the entire dataset into a 3D array (image index, x, y) of floating point values, normalized to have approximately zero mean and standard deviation ~0.5 to make training easier down the road. \n",
    "\n",
    "A few images might not be readable, we'll just skip them."
   ]
  },
  {
   "cell_type": "code",
   "execution_count": 6,
   "metadata": {
    "cellView": "both",
    "colab": {
     "autoexec": {
      "startup": false,
      "wait_interval": 0
     },
     "output_extras": [
      {
       "item_id": 30
      }
     ]
    },
    "colab_type": "code",
    "executionInfo": {
     "elapsed": 399874,
     "status": "ok",
     "timestamp": 1444485886378,
     "user": {
      "color": "#1FA15D",
      "displayName": "Vincent Vanhoucke",
      "isAnonymous": false,
      "isMe": true,
      "permissionId": "05076109866853157986",
      "photoUrl": "//lh6.googleusercontent.com/-cCJa7dTDcgQ/AAAAAAAAAAI/AAAAAAAACgw/r2EZ_8oYer4/s50-c-k-no/photo.jpg",
      "sessionId": "2a0a5e044bb03b66",
      "userId": "102167687554210253930"
     },
     "user_tz": 420
    },
    "id": "h7q0XhG3MJdf",
    "outputId": "92c391bb-86ff-431d-9ada-315568a19e59"
   },
   "outputs": [
    {
     "name": "stdout",
     "output_type": "stream",
     "text": [
      ".\\notMNIST_large\\A.pickle already present - Skipping pickling.\n",
      ".\\notMNIST_large\\B.pickle already present - Skipping pickling.\n",
      ".\\notMNIST_large\\C.pickle already present - Skipping pickling.\n",
      ".\\notMNIST_large\\D.pickle already present - Skipping pickling.\n",
      ".\\notMNIST_large\\E.pickle already present - Skipping pickling.\n",
      ".\\notMNIST_large\\F.pickle already present - Skipping pickling.\n",
      ".\\notMNIST_large\\G.pickle already present - Skipping pickling.\n",
      ".\\notMNIST_large\\H.pickle already present - Skipping pickling.\n",
      ".\\notMNIST_large\\I.pickle already present - Skipping pickling.\n",
      ".\\notMNIST_large\\J.pickle already present - Skipping pickling.\n",
      ".\\notMNIST_small\\A.pickle already present - Skipping pickling.\n",
      ".\\notMNIST_small\\B.pickle already present - Skipping pickling.\n",
      ".\\notMNIST_small\\C.pickle already present - Skipping pickling.\n",
      ".\\notMNIST_small\\D.pickle already present - Skipping pickling.\n",
      ".\\notMNIST_small\\E.pickle already present - Skipping pickling.\n",
      ".\\notMNIST_small\\F.pickle already present - Skipping pickling.\n",
      ".\\notMNIST_small\\G.pickle already present - Skipping pickling.\n",
      ".\\notMNIST_small\\H.pickle already present - Skipping pickling.\n",
      ".\\notMNIST_small\\I.pickle already present - Skipping pickling.\n",
      ".\\notMNIST_small\\J.pickle already present - Skipping pickling.\n"
     ]
    }
   ],
   "source": [
    "image_size = 28  # Pixel width and height.\n",
    "pixel_depth = 255.0  # Number of levels per pixel.\n",
    "\n",
    "def load_letter(folder, min_num_images):\n",
    "  \"\"\"Load the data for a single letter label.\"\"\"\n",
    "  image_files = os.listdir(folder)\n",
    "  dataset = np.ndarray(shape=(len(image_files), image_size, image_size),\n",
    "                         dtype=np.float32)\n",
    "  print(folder)\n",
    "  num_images = 0\n",
    "  for image in image_files:\n",
    "    image_file = os.path.join(folder, image)\n",
    "    try:\n",
    "      image_data = (imageio.imread(image_file).astype(float) - \n",
    "                    pixel_depth / 2) / pixel_depth\n",
    "      if image_data.shape != (image_size, image_size):\n",
    "        raise Exception('Unexpected image shape: %s' % str(image_data.shape))\n",
    "      dataset[num_images, :, :] = image_data\n",
    "      num_images = num_images + 1\n",
    "    except (IOError, ValueError) as e:\n",
    "      print('Could not read:', image_file, ':', e, '- it\\'s ok, skipping.')\n",
    "    \n",
    "  dataset = dataset[0:num_images, :, :]\n",
    "  if num_images < min_num_images:\n",
    "    raise Exception('Many fewer images than expected: %d < %d' %\n",
    "                    (num_images, min_num_images))\n",
    "    \n",
    "  print('Full dataset tensor:', dataset.shape)\n",
    "  print('Mean:', np.mean(dataset))\n",
    "  print('Standard deviation:', np.std(dataset))\n",
    "  return dataset\n",
    "        \n",
    "def maybe_pickle(data_folders, min_num_images_per_class, force=False):\n",
    "  dataset_names = []\n",
    "  for folder in data_folders:\n",
    "    set_filename = folder + '.pickle'\n",
    "    dataset_names.append(set_filename)\n",
    "    if os.path.exists(set_filename) and not force:\n",
    "      # You may override by setting force=True.\n",
    "      print('%s already present - Skipping pickling.' % set_filename)\n",
    "    else:\n",
    "      print('Pickling %s.' % set_filename)\n",
    "      dataset = load_letter(folder, min_num_images_per_class)\n",
    "      try:\n",
    "        with open(set_filename, 'wb') as f:\n",
    "          pickle.dump(dataset, f, pickle.HIGHEST_PROTOCOL)\n",
    "      except Exception as e:\n",
    "        print('Unable to save data to', set_filename, ':', e)\n",
    "  \n",
    "  return dataset_names\n",
    "\n",
    "train_datasets = maybe_pickle(train_folders, 45000)\n",
    "test_datasets = maybe_pickle(test_folders, 1800)"
   ]
  },
  {
   "cell_type": "markdown",
   "metadata": {
    "colab_type": "text",
    "id": "vUdbskYE2d87"
   },
   "source": [
    "---\n",
    "Problem 2\n",
    "---------\n",
    "\n",
    "Let's verify that the data still looks good. Displaying a sample of the labels and images from the ndarray. Hint: you can use matplotlib.pyplot.\n",
    "\n",
    "---"
   ]
  },
  {
   "cell_type": "code",
   "execution_count": 7,
   "metadata": {},
   "outputs": [
    {
     "name": "stdout",
     "output_type": "stream",
     "text": [
      "------------testing set------------\n",
      "A\n"
     ]
    },
    {
     "data": {
      "image/png": "[encoded data removed]",
      "text/plain": [
       "<matplotlib.figure.Figure at 0x23cfb745128>"
      ]
     },
     "metadata": {},
     "output_type": "display_data"
    },
    {
     "name": "stdout",
     "output_type": "stream",
     "text": [
      "B\n"
     ]
    },
    {
     "data": {
      "image/png": "[encoded data removed]",
      "text/plain": [
       "<matplotlib.figure.Figure at 0x23cfc5a9a90>"
      ]
     },
     "metadata": {},
     "output_type": "display_data"
    },
    {
     "name": "stdout",
     "output_type": "stream",
     "text": [
      "C\n"
     ]
    },
    {
     "data": {
      "image/png": "[encoded data removed]",
      "text/plain": [
       "<matplotlib.figure.Figure at 0x23cfcb512b0>"
      ]
     },
     "metadata": {},
     "output_type": "display_data"
    },
    {
     "name": "stdout",
     "output_type": "stream",
     "text": [
      "D\n"
     ]
    },
    {
     "data": {
      "image/png": "[encoded data removed]",
      "text/plain": [
       "<matplotlib.figure.Figure at 0x23cfcb9a518>"
      ]
     },
     "metadata": {},
     "output_type": "display_data"
    },
    {
     "name": "stdout",
     "output_type": "stream",
     "text": [
      "E\n"
     ]
    },
    {
     "data": {
      "image/png": "[encoded data removed]",
      "text/plain": [
       "<matplotlib.figure.Figure at 0x23cfcc0e978>"
      ]
     },
     "metadata": {},
     "output_type": "display_data"
    },
    {
     "name": "stdout",
     "output_type": "stream",
     "text": [
      "F\n"
     ]
    },
    {
     "data": {
      "image/png": "[encoded data removed]",
      "text/plain": [
       "<matplotlib.figure.Figure at 0x23cfc5a9ac8>"
      ]
     },
     "metadata": {},
     "output_type": "display_data"
    },
    {
     "name": "stdout",
     "output_type": "stream",
     "text": [
      "G\n"
     ]
    },
    {
     "data": {
      "image/png": "[encoded data removed]",
      "text/plain": [
       "<matplotlib.figure.Figure at 0x23cfcb646a0>"
      ]
     },
     "metadata": {},
     "output_type": "display_data"
    },
    {
     "name": "stdout",
     "output_type": "stream",
     "text": [
      "H\n"
     ]
    },
    {
     "data": {
      "image/png": "[encoded data removed]",
      "text/plain": [
       "<matplotlib.figure.Figure at 0x23cfcd11a58>"
      ]
     },
     "metadata": {},
     "output_type": "display_data"
    },
    {
     "name": "stdout",
     "output_type": "stream",
     "text": [
      "I\n"
     ]
    },
    {
     "data": {
      "image/png": "[encoded data removed]",
      "text/plain": [
       "<matplotlib.figure.Figure at 0x23cfcd66a90>"
      ]
     },
     "metadata": {},
     "output_type": "display_data"
    },
    {
     "name": "stdout",
     "output_type": "stream",
     "text": [
      "J\n"
     ]
    },
    {
     "data": {
      "image/png": "[encoded data removed]",
      "text/plain": [
       "<matplotlib.figure.Figure at 0x23cfe0f9208>"
      ]
     },
     "metadata": {},
     "output_type": "display_data"
    },
    {
     "name": "stdout",
     "output_type": "stream",
     "text": [
      "------------training set------------\n",
      "A\n"
     ]
    },
    {
     "data": {
      "image/png": "[encoded data removed]",
      "text/plain": [
       "<matplotlib.figure.Figure at 0x23cfc54cd30>"
      ]
     },
     "metadata": {},
     "output_type": "display_data"
    },
    {
     "name": "stdout",
     "output_type": "stream",
     "text": [
      "B\n"
     ]
    },
    {
     "data": {
      "image/png": "[encoded data removed]",
      "text/plain": [
       "<matplotlib.figure.Figure at 0x23cfcce74e0>"
      ]
     },
     "metadata": {},
     "output_type": "display_data"
    },
    {
     "name": "stdout",
     "output_type": "stream",
     "text": [
      "C\n"
     ]
    },
    {
     "data": {
      "image/png": "[encoded data removed]",
      "text/plain": [
       "<matplotlib.figure.Figure at 0x23c80076d68>"
      ]
     },
     "metadata": {},
     "output_type": "display_data"
    },
    {
     "name": "stdout",
     "output_type": "stream",
     "text": [
      "D\n"
     ]
    },
    {
     "data": {
      "image/png": "[encoded data removed]",
      "text/plain": [
       "<matplotlib.figure.Figure at 0x23c8004db38>"
      ]
     },
     "metadata": {},
     "output_type": "display_data"
    },
    {
     "name": "stdout",
     "output_type": "stream",
     "text": [
      "E\n"
     ]
    },
    {
     "data": {
      "image/png": "[encoded data removed]",
      "text/plain": [
       "<matplotlib.figure.Figure at 0x23cfcd88d30>"
      ]
     },
     "metadata": {},
     "output_type": "display_data"
    },
    {
     "name": "stdout",
     "output_type": "stream",
     "text": [
      "F\n"
     ]
    },
    {
     "data": {
      "image/png": "[encoded data removed]",
      "text/plain": [
       "<matplotlib.figure.Figure at 0x23c8001b400>"
      ]
     },
     "metadata": {},
     "output_type": "display_data"
    },
    {
     "name": "stdout",
     "output_type": "stream",
     "text": [
      "G\n"
     ]
    },
    {
     "data": {
      "image/png": "[encoded data removed]",
      "text/plain": [
       "<matplotlib.figure.Figure at 0x23cfc7f2320>"
      ]
     },
     "metadata": {},
     "output_type": "display_data"
    },
    {
     "name": "stdout",
     "output_type": "stream",
     "text": [
      "H\n"
     ]
    },
    {
     "data": {
      "image/png": "[encoded data removed]",
      "text/plain": [
       "<matplotlib.figure.Figure at 0x23cfc8093c8>"
      ]
     },
     "metadata": {},
     "output_type": "display_data"
    },
    {
     "name": "stdout",
     "output_type": "stream",
     "text": [
      "I\n"
     ]
    },
    {
     "data": {
      "image/png": "[encoded data removed]",
      "text/plain": [
       "<matplotlib.figure.Figure at 0x23c800b81d0>"
      ]
     },
     "metadata": {},
     "output_type": "display_data"
    },
    {
     "name": "stdout",
     "output_type": "stream",
     "text": [
      "J\n"
     ]
    },
    {
     "data": {
      "image/png": "[encoded data removed]",
      "text/plain": [
       "<matplotlib.figure.Figure at 0x23cfe121208>"
      ]
     },
     "metadata": {},
     "output_type": "display_data"
    }
   ],
   "source": [
    "def get_images(train_or_test):\n",
    "    for letter in train_or_test:\n",
    "        print (letter[len(letter)-8])\n",
    "        file_handler = open(letter, 'rb')\n",
    "        letter_matrices = pickle.load(file_handler)\n",
    "        file_handler.close()\n",
    "        plt.axis('off')\n",
    "        plt.imshow(letter_matrices[random.randrange(len(letter_matrices))])\n",
    "        plt.pause(0.5)\n",
    "        \n",
    "print(\"------------testing set------------\")   \n",
    "get_images(test_datasets)\n",
    "print(\"------------training set------------\")\n",
    "get_images(train_datasets)"
   ]
  },
  {
   "cell_type": "markdown",
   "metadata": {
    "colab_type": "text",
    "id": "cYznx5jUwzoO"
   },
   "source": [
    "---\n",
    "Problem 3\n",
    "---------\n",
    "Another check: we expect the data to be balanced across classes. Verify that.\n",
    "\n",
    "---"
   ]
  },
  {
   "cell_type": "code",
   "execution_count": 8,
   "metadata": {},
   "outputs": [
    {
     "name": "stdout",
     "output_type": "stream",
     "text": [
      "------------testing set------------\n",
      ".\\notMNIST_small\\A.pickle - Count equals: 1872 datapoints\n",
      ".\\notMNIST_small\\B.pickle - Count equals: 1873 datapoints\n",
      ".\\notMNIST_small\\C.pickle - Count equals: 1873 datapoints\n",
      ".\\notMNIST_small\\D.pickle - Count equals: 1873 datapoints\n",
      ".\\notMNIST_small\\E.pickle - Count equals: 1873 datapoints\n",
      ".\\notMNIST_small\\F.pickle - Count equals: 1872 datapoints\n",
      ".\\notMNIST_small\\G.pickle - Count equals: 1872 datapoints\n",
      ".\\notMNIST_small\\H.pickle - Count equals: 1872 datapoints\n",
      ".\\notMNIST_small\\I.pickle - Count equals: 1872 datapoints\n",
      ".\\notMNIST_small\\J.pickle - Count equals: 1872 datapoints\n",
      "------------training set------------\n",
      ".\\notMNIST_large\\A.pickle - Count equals: 52909 datapoints\n",
      ".\\notMNIST_large\\B.pickle - Count equals: 52911 datapoints\n",
      ".\\notMNIST_large\\C.pickle - Count equals: 52912 datapoints\n",
      ".\\notMNIST_large\\D.pickle - Count equals: 52911 datapoints\n",
      ".\\notMNIST_large\\E.pickle - Count equals: 52912 datapoints\n",
      ".\\notMNIST_large\\F.pickle - Count equals: 52912 datapoints\n",
      ".\\notMNIST_large\\G.pickle - Count equals: 52912 datapoints\n",
      ".\\notMNIST_large\\H.pickle - Count equals: 52912 datapoints\n",
      ".\\notMNIST_large\\I.pickle - Count equals: 52912 datapoints\n",
      ".\\notMNIST_large\\J.pickle - Count equals: 52911 datapoints\n"
     ]
    }
   ],
   "source": [
    "def countDataPoints(datasets):\n",
    "    for letter in datasets:\n",
    "        file_handler = open(letter, 'rb')\n",
    "        letter_matrices = pickle.load(file_handler)\n",
    "        file_handler.close()\n",
    "        print (letter, \"- Count equals: %d datapoints\" %len(letter_matrices))\n",
    "\n",
    "print(\"------------testing set------------\")\n",
    "countDataPoints(test_datasets)\n",
    "print(\"------------training set------------\")\n",
    "countDataPoints(train_datasets)\n",
    "        "
   ]
  },
  {
   "cell_type": "markdown",
   "metadata": {
    "colab_type": "text",
    "id": "LA7M7K22ynCt"
   },
   "source": [
    "Merge and prune the training data as needed. Depending on your computer setup, you might not be able to fit it all in memory, and you can tune `train_size` as needed. The labels will be stored into a separate array of integers 0 through 9.\n",
    "\n",
    "Also create a validation dataset for hyperparameter tuning."
   ]
  },
  {
   "cell_type": "code",
   "execution_count": 9,
   "metadata": {
    "cellView": "both",
    "colab": {
     "autoexec": {
      "startup": false,
      "wait_interval": 0
     },
     "output_extras": [
      {
       "item_id": 1
      }
     ]
    },
    "colab_type": "code",
    "executionInfo": {
     "elapsed": 411281,
     "status": "ok",
     "timestamp": 1444485897869,
     "user": {
      "color": "#1FA15D",
      "displayName": "Vincent Vanhoucke",
      "isAnonymous": false,
      "isMe": true,
      "permissionId": "05076109866853157986",
      "photoUrl": "//lh6.googleusercontent.com/-cCJa7dTDcgQ/AAAAAAAAAAI/AAAAAAAACgw/r2EZ_8oYer4/s50-c-k-no/photo.jpg",
      "sessionId": "2a0a5e044bb03b66",
      "userId": "102167687554210253930"
     },
     "user_tz": 420
    },
    "id": "s3mWgZLpyuzq",
    "outputId": "8af66da6-902d-4719-bedc-7c9fb7ae7948"
   },
   "outputs": [
    {
     "name": "stdout",
     "output_type": "stream",
     "text": [
      "Training: (200000, 28, 28) (200000,)\n",
      "Validation: (10000, 28, 28) (10000,)\n",
      "Testing: (10000, 28, 28) (10000,)\n"
     ]
    }
   ],
   "source": [
    "def make_arrays(nb_rows, img_size):\n",
    "  if nb_rows:\n",
    "    dataset = np.ndarray((nb_rows, img_size, img_size), dtype=np.float32)\n",
    "    labels = np.ndarray(nb_rows, dtype=np.int32)\n",
    "  else:\n",
    "    dataset, labels = None, None\n",
    "  return dataset, labels\n",
    "\n",
    "def merge_datasets(pickle_files, train_size, valid_size=0):\n",
    "  num_classes = len(pickle_files)\n",
    "  valid_dataset, valid_labels = make_arrays(valid_size, image_size)\n",
    "  train_dataset, train_labels = make_arrays(train_size, image_size)\n",
    "  vsize_per_class = valid_size // num_classes\n",
    "  tsize_per_class = train_size // num_classes\n",
    "    \n",
    "  start_v, start_t = 0, 0\n",
    "  end_v, end_t = vsize_per_class, tsize_per_class\n",
    "  end_l = vsize_per_class+tsize_per_class\n",
    "  for label, pickle_file in enumerate(pickle_files):       \n",
    "    try:\n",
    "      with open(pickle_file, 'rb') as f:\n",
    "        letter_set = pickle.load(f)\n",
    "        # let's shuffle the letters to have random validation and training set\n",
    "        np.random.shuffle(letter_set)\n",
    "        if valid_dataset is not None:\n",
    "          valid_letter = letter_set[:vsize_per_class, :, :]\n",
    "          valid_dataset[start_v:end_v, :, :] = valid_letter\n",
    "          valid_labels[start_v:end_v] = label\n",
    "          start_v += vsize_per_class\n",
    "          end_v += vsize_per_class\n",
    "                    \n",
    "        train_letter = letter_set[vsize_per_class:end_l, :, :]\n",
    "        train_dataset[start_t:end_t, :, :] = train_letter\n",
    "        train_labels[start_t:end_t] = label\n",
    "        start_t += tsize_per_class\n",
    "        end_t += tsize_per_class\n",
    "    except Exception as e:\n",
    "      print('Unable to process data from', pickle_file, ':', e)\n",
    "      raise\n",
    "    \n",
    "  return valid_dataset, valid_labels, train_dataset, train_labels\n",
    "            \n",
    "            \n",
    "train_size = 200000\n",
    "valid_size = 10000\n",
    "test_size = 10000\n",
    "\n",
    "valid_dataset, valid_labels, train_dataset, train_labels = merge_datasets(\n",
    "  train_datasets, train_size, valid_size)\n",
    "_, _, test_dataset, test_labels = merge_datasets(test_datasets, test_size)\n",
    "\n",
    "print('Training:', train_dataset.shape, train_labels.shape)\n",
    "print('Validation:', valid_dataset.shape, valid_labels.shape)\n",
    "print('Testing:', test_dataset.shape, test_labels.shape)"
   ]
  },
  {
   "cell_type": "markdown",
   "metadata": {
    "colab_type": "text",
    "id": "GPTCnjIcyuKN"
   },
   "source": [
    "Next, we'll randomize the data. It's important to have the labels well shuffled for the training and test distributions to match."
   ]
  },
  {
   "cell_type": "code",
   "execution_count": 10,
   "metadata": {
    "cellView": "both",
    "colab": {
     "autoexec": {
      "startup": false,
      "wait_interval": 0
     }
    },
    "colab_type": "code",
    "collapsed": true,
    "id": "6WZ2l2tN2zOL"
   },
   "outputs": [],
   "source": [
    "def randomize(dataset, labels):\n",
    "  permutation = np.random.permutation(labels.shape[0])\n",
    "  shuffled_dataset = dataset[permutation,:,:]\n",
    "  shuffled_labels = labels[permutation]\n",
    "  return shuffled_dataset, shuffled_labels\n",
    "train_dataset, train_labels = randomize(train_dataset, train_labels)\n",
    "test_dataset, test_labels = randomize(test_dataset, test_labels)\n",
    "valid_dataset, valid_labels = randomize(valid_dataset, valid_labels)"
   ]
  },
  {
   "cell_type": "markdown",
   "metadata": {
    "colab_type": "text",
    "id": "puDUTe6t6USl"
   },
   "source": [
    "---\n",
    "Problem 4\n",
    "---------\n",
    "Convince yourself that the data is still good after shuffling!\n",
    "\n",
    "---"
   ]
  },
  {
   "cell_type": "code",
   "execution_count": 11,
   "metadata": {},
   "outputs": [
    {
     "name": "stdout",
     "output_type": "stream",
     "text": [
      "------------training set------------\n"
     ]
    },
    {
     "data": {
      "image/png": "[encoded data removed]",
      "text/plain": [
       "<matplotlib.figure.Figure at 0x23cfcc20080>"
      ]
     },
     "metadata": {},
     "output_type": "display_data"
    },
    {
     "name": "stdout",
     "output_type": "stream",
     "text": [
      "------------testing set------------\n"
     ]
    },
    {
     "data": {
      "image/png": "[encoded data removed]",
      "text/plain": [
       "<matplotlib.figure.Figure at 0x23cfcc67e80>"
      ]
     },
     "metadata": {},
     "output_type": "display_data"
    },
    {
     "name": "stdout",
     "output_type": "stream",
     "text": [
      "------------validation set------------\n"
     ]
    },
    {
     "data": {
      "image/png": "[encoded data removed]",
      "text/plain": [
       "<matplotlib.figure.Figure at 0x23cfcb44d68>"
      ]
     },
     "metadata": {},
     "output_type": "display_data"
    }
   ],
   "source": [
    "int_to_letter = ['A','B','C','D','E','F','G','H','I','J']\n",
    "\n",
    "def show_some_letters(dataset,labels):\n",
    "    fig = plt.figure()\n",
    "    for x in range(0,9):\n",
    "        rand = random.randrange(len(labels))        \n",
    "        temp_subplot = fig.add_subplot(int(\"33%d\"%(x+1)))\n",
    "        temp_subplot.imshow(dataset[rand])\n",
    "        temp_subplot.axis('off')\n",
    "        temp_subplot.title.set_text(\"letter: %s\"%int_to_letter[labels[rand]])\n",
    "    plt.pause(0.1)   \n",
    "\n",
    "print(\"------------training set------------\")\n",
    "show_some_letters(train_dataset,train_labels)\n",
    "print(\"------------testing set------------\")\n",
    "show_some_letters(test_dataset,test_labels)\n",
    "print(\"------------validation set------------\")\n",
    "show_some_letters(valid_dataset,valid_labels)\n",
    "       "
   ]
  },
  {
   "cell_type": "markdown",
   "metadata": {
    "colab_type": "text",
    "id": "tIQJaJuwg5Hw"
   },
   "source": [
    "Finally, let's save the data for later reuse:"
   ]
  },
  {
   "cell_type": "code",
   "execution_count": 12,
   "metadata": {
    "cellView": "both",
    "colab": {
     "autoexec": {
      "startup": false,
      "wait_interval": 0
     }
    },
    "colab_type": "code",
    "collapsed": true,
    "id": "QiR_rETzem6C"
   },
   "outputs": [],
   "source": [
    "pickle_file = os.path.join(data_root, 'notMNIST.pickle')\n",
    "\n",
    "try:\n",
    "  f = open(pickle_file, 'wb')\n",
    "  save = {\n",
    "    'train_dataset': train_dataset,\n",
    "    'train_labels': train_labels,\n",
    "    'valid_dataset': valid_dataset,\n",
    "    'valid_labels': valid_labels,\n",
    "    'test_dataset': test_dataset,\n",
    "    'test_labels': test_labels,\n",
    "    }\n",
    "  pickle.dump(save, f, pickle.HIGHEST_PROTOCOL)\n",
    "  f.close()\n",
    "except Exception as e:\n",
    "  print('Unable to save data to', pickle_file, ':', e)\n",
    "  raise"
   ]
  },
  {
   "cell_type": "code",
   "execution_count": 13,
   "metadata": {
    "cellView": "both",
    "colab": {
     "autoexec": {
      "startup": false,
      "wait_interval": 0
     },
     "output_extras": [
      {
       "item_id": 1
      }
     ]
    },
    "colab_type": "code",
    "executionInfo": {
     "elapsed": 413065,
     "status": "ok",
     "timestamp": 1444485899688,
     "user": {
      "color": "#1FA15D",
      "displayName": "Vincent Vanhoucke",
      "isAnonymous": false,
      "isMe": true,
      "permissionId": "05076109866853157986",
      "photoUrl": "//lh6.googleusercontent.com/-cCJa7dTDcgQ/AAAAAAAAAAI/AAAAAAAACgw/r2EZ_8oYer4/s50-c-k-no/photo.jpg",
      "sessionId": "2a0a5e044bb03b66",
      "userId": "102167687554210253930"
     },
     "user_tz": 420
    },
    "id": "hQbLjrW_iT39",
    "outputId": "b440efc6-5ee1-4cbc-d02d-93db44ebd956"
   },
   "outputs": [
    {
     "name": "stdout",
     "output_type": "stream",
     "text": [
      "Compressed pickle size: 690800506\n"
     ]
    }
   ],
   "source": [
    "statinfo = os.stat(pickle_file)\n",
    "print('Compressed pickle size:', statinfo.st_size)"
   ]
  },
  {
   "cell_type": "markdown",
   "metadata": {
    "colab_type": "text",
    "id": "gE_cRAQB33lk"
   },
   "source": [
    "---\n",
    "Problem 5\n",
    "---------\n",
    "\n",
    "By construction, this dataset might contain a lot of overlapping samples, including training data that's also contained in the validation and test set! Overlap between training and test can skew the results if you expect to use your model in an environment where there is never an overlap, but are actually ok if you expect to see training samples recur when you use it.\n",
    "Measure how much overlap there is between training, validation and test samples.\n",
    "\n",
    "Optional questions:\n",
    "- What about near duplicates between datasets? (images that are almost identical)\n",
    "- Create a sanitized validation and test set, and compare your accuracy on those in subsequent assignments.\n",
    "---"
   ]
  },
  {
   "cell_type": "code",
   "execution_count": 14,
   "metadata": {
    "collapsed": true
   },
   "outputs": [],
   "source": [
    "from time import time\n",
    "\n",
    "def create_diagonal_mean(dataset):\n",
    "    t_global = time()\n",
    "    dataset_summary = np.zeros(shape = (len(dataset)))\n",
    "    for i,i_letter in enumerate(dataset):\n",
    "        temp_mean=0\n",
    "        for j in range(0,28):\n",
    "            temp_mean+=i_letter[j][j]/28     \n",
    "        if (i+1)%20000 ==0:\n",
    "            print(\"summarised %d...\"%(i+1))\n",
    "        dataset_summary[i]=temp_mean\n",
    "    print(\"data summarised in %0.3fs\"%(time()-t_global))\n",
    "    return dataset_summary"
   ]
  },
  {
   "cell_type": "markdown",
   "metadata": {},
   "source": [
    "now to generate means for original data"
   ]
  },
  {
   "cell_type": "code",
   "execution_count": 15,
   "metadata": {},
   "outputs": [
    {
     "name": "stdout",
     "output_type": "stream",
     "text": [
      "summarised 20000...\n",
      "summarised 40000...\n",
      "summarised 60000...\n",
      "summarised 80000...\n",
      "summarised 100000...\n",
      "summarised 120000...\n",
      "summarised 140000...\n",
      "summarised 160000...\n",
      "summarised 180000...\n",
      "summarised 200000...\n",
      "data summarised in 15.418s\n",
      "data summarised in 0.743s\n",
      "data summarised in 0.753s\n"
     ]
    }
   ],
   "source": [
    "train_mean = create_diagonal_mean(train_dataset)\n",
    "test_mean = create_diagonal_mean(test_dataset)\n",
    "valid_mean = create_diagonal_mean(valid_dataset)"
   ]
  },
  {
   "cell_type": "markdown",
   "metadata": {},
   "source": [
    "some code for visualising pairs"
   ]
  },
  {
   "cell_type": "code",
   "execution_count": 16,
   "metadata": {
    "collapsed": true
   },
   "outputs": [],
   "source": [
    "def visual_2_letters(a1,a2):\n",
    "    fig = plt.figure()\n",
    "    temp_subplot = fig.add_subplot(121)\n",
    "    temp_subplot.imshow(a1)\n",
    "    temp_subplot.axis('off')\n",
    "    temp_subplot = fig.add_subplot(122)\n",
    "    temp_subplot.imshow(a2)\n",
    "    temp_subplot.axis('off')\n",
    "    plt.pause(0.1)"
   ]
  },
  {
   "cell_type": "markdown",
   "metadata": {},
   "source": [
    "this may be a lot faster if i run a sort algorithm method.\n"
   ]
  },
  {
   "cell_type": "code",
   "execution_count": 17,
   "metadata": {
    "collapsed": true
   },
   "outputs": [],
   "source": [
    "def mean_overlap(mean_1,mean_2):\n",
    "    overlap_arr = []\n",
    "    indices_1 = np.argsort(mean_1)\n",
    "    sorted_mean_1 = mean_1[indices_1]\n",
    "    \n",
    "    indices_2 = np.argsort(mean_2)\n",
    "    sorted_mean_2 = mean_2[indices_2]\n",
    "    \n",
    "    sort_temp = 0\n",
    "    last_smaller = 0\n",
    "    \n",
    "    for i in range(0,len(sorted_mean_1)):\n",
    "        exit = False\n",
    "        sort_temp = last_smaller\n",
    "        \n",
    "        while(exit == False):\n",
    "            \n",
    "            if sorted_mean_1[i] == sorted_mean_2[sort_temp]:\n",
    "                overlap_arr.append((indices_1[i],indices_2[sort_temp]))                  \n",
    "            \n",
    "            if sorted_mean_1[i]< sorted_mean_2[sort_temp] or sort_temp == len(sorted_mean_2)-1:\n",
    "                exit=True ###loop from last_smaller to first element larger or last element\n",
    "            \n",
    "            elif sorted_mean_2[sort_temp] == sorted_mean_2[max(sort_temp-1,0)]:\n",
    "                sort_temp += 1\n",
    "            else:\n",
    "                last_smaller = sort_temp\n",
    "                sort_temp +=1       \n",
    "    return np.array(overlap_arr)\n",
    "\n",
    "\n",
    "def test_overlap(mean_1,mean_2,dataset_1,dataset_2,itself):\n",
    "    overlap_arr = []\n",
    "    overlap_count = 0\n",
    "    t0 = time()\n",
    "    t1 = time()\n",
    "    for match in mean_overlap(mean_1,mean_2):\n",
    "        if np.array_equal(dataset_1[match[0]],dataset_2[match[1]]):\n",
    "            if itself == False:\n",
    "                overlap_count +=1\n",
    "                overlap_arr.append(match)\n",
    "                \n",
    "            elif match[0]<match[1]:\n",
    "                overlap_count +=1\n",
    "                overlap_arr.append(match)\n",
    "                \n",
    "    print(\"done_total. Time: %0.3fs\"%(time()-t0),\" with %i overlaps\"%overlap_count)\n",
    "    return np.array(overlap_arr)"
   ]
  },
  {
   "cell_type": "markdown",
   "metadata": {},
   "source": [
    "function for removing duplicates"
   ]
  },
  {
   "cell_type": "code",
   "execution_count": 18,
   "metadata": {
    "collapsed": true
   },
   "outputs": [],
   "source": [
    "def remove_overlaps(overlaps,dataset,labels):\n",
    "    ammended_dataset = []\n",
    "    ammended_labels = []\n",
    "    unique_duplicates = np.sort(np.unique(overlaps))\n",
    "    loop_int = 0\n",
    "    for i in range(0,len(dataset)):\n",
    "        if i != unique_duplicates[loop_int]:\n",
    "            ammended_dataset.append(dataset[i])\n",
    "            ammended_labels.append(labels[i])\n",
    "        else:\n",
    "            loop_int = min(loop_int+1,len(unique_duplicates)-1)\n",
    "    print(\"%i duplicates removed\"%len(unique_duplicates))\n",
    "    return np.array(ammended_dataset),np.array(ammended_labels)"
   ]
  },
  {
   "cell_type": "markdown",
   "metadata": {},
   "source": [
    "now to remove duplicates(mostly blank letters)"
   ]
  },
  {
   "cell_type": "code",
   "execution_count": 19,
   "metadata": {},
   "outputs": [
    {
     "name": "stdout",
     "output_type": "stream",
     "text": [
      "done_total. Time: 54.173s  with 2388459 overlaps\n",
      "done_total. Time: 0.398s  with 9956 overlaps\n",
      "done_total. Time: 0.184s  with 4512 overlaps\n",
      "12783 duplicates removed\n",
      "220 duplicates removed\n",
      "128 duplicates removed\n",
      "summarised 20000...\n",
      "summarised 40000...\n",
      "summarised 60000...\n",
      "summarised 80000...\n",
      "summarised 100000...\n",
      "summarised 120000...\n",
      "summarised 140000...\n",
      "summarised 160000...\n",
      "summarised 180000...\n",
      "data summarised in 18.551s\n",
      "data summarised in 0.770s\n",
      "data summarised in 0.729s\n"
     ]
    }
   ],
   "source": [
    "train_train_overlap = test_overlap(train_mean,train_mean,train_dataset,train_dataset,True)\n",
    "test_test_overlap = test_overlap(test_mean,test_mean,test_dataset,test_dataset,True)\n",
    "valid_valid_overlap = test_overlap(valid_mean,valid_mean,valid_dataset,valid_dataset,True)\n",
    "\n",
    "san_train_dataset,san_train_labels = remove_overlaps(train_train_overlap[:,1],train_dataset,train_labels)\n",
    "san_test_dataset,san_test_labels = remove_overlaps(test_test_overlap[:,1],test_dataset,test_labels)\n",
    "san_valid_dataset,san_valid_labels = remove_overlaps(valid_valid_overlap[:,1],valid_dataset,valid_labels)\n",
    "\n",
    "san_train_mean = create_diagonal_mean(san_train_dataset)\n",
    "san_test_mean = create_diagonal_mean(san_test_dataset)\n",
    "san_valid_mean = create_diagonal_mean(san_valid_dataset)"
   ]
  },
  {
   "cell_type": "code",
   "execution_count": 20,
   "metadata": {},
   "outputs": [
    {
     "name": "stdout",
     "output_type": "stream",
     "text": [
      "done_total. Time: 0.613s  with 1153 overlaps\n",
      "1153 duplicates removed\n",
      "summarised 20000...\n",
      "summarised 40000...\n",
      "summarised 60000...\n",
      "summarised 80000...\n",
      "summarised 100000...\n",
      "summarised 120000...\n",
      "summarised 140000...\n",
      "summarised 160000...\n",
      "summarised 180000...\n",
      "data summarised in 16.874s\n",
      "done_total. Time: 0.052s  with 55 overlaps\n",
      "55 duplicates removed\n",
      "data summarised in 0.842s\n",
      "done_total. Time: 0.477s  with 935 overlaps\n",
      "935 duplicates removed\n",
      "data summarised in 0.733s\n"
     ]
    }
   ],
   "source": [
    "train_test_overlap = test_overlap(san_train_mean,san_test_mean,san_train_dataset,san_test_dataset,False)\n",
    "san2_train_dataset,san2_train_labels = remove_overlaps(train_test_overlap[:,0],san_train_dataset,san_train_labels)\n",
    "san2_train_mean = create_diagonal_mean(san2_train_dataset)### recalculate the train_mean\n",
    "\n",
    "test_valid_overlap = test_overlap(san_test_mean,san_valid_mean,san_test_dataset,san_valid_dataset,False)\n",
    "san2_test_dataset,san2_test_labels = remove_overlaps(test_valid_overlap[:,0],san_test_dataset,san_test_labels) ### remove internal train duplicates\n",
    "san2_test_mean = create_diagonal_mean(san2_test_dataset)\n",
    "\n",
    "train_valid_overlap = test_overlap(san2_train_mean,san_valid_mean,san2_train_dataset,san_valid_dataset,False)\n",
    "san2_valid_dataset,san2_valid_labels = remove_overlaps(train_valid_overlap[:,0],san_valid_dataset,san_valid_labels) ### remove internal train duplicates\n",
    "san2_valid_mean = create_diagonal_mean(san2_valid_dataset)"
   ]
  },
  {
   "cell_type": "code",
   "execution_count": 21,
   "metadata": {},
   "outputs": [
    {
     "name": "stdout",
     "output_type": "stream",
     "text": [
      "------------train------------\n"
     ]
    },
    {
     "data": {
      "image/png": "[encoded data removed]",
      "text/plain": [
       "<matplotlib.figure.Figure at 0x23cfcdc3e48>"
      ]
     },
     "metadata": {},
     "output_type": "display_data"
    },
    {
     "name": "stdout",
     "output_type": "stream",
     "text": [
      "------------test------------\n"
     ]
    },
    {
     "data": {
      "image/png": "[encoded data removed]",
      "text/plain": [
       "<matplotlib.figure.Figure at 0x23c800f7518>"
      ]
     },
     "metadata": {},
     "output_type": "display_data"
    },
    {
     "name": "stdout",
     "output_type": "stream",
     "text": [
      "------------valid------------\n"
     ]
    },
    {
     "data": {
      "image/png": "[encoded data removed]",
      "text/plain": [
       "<matplotlib.figure.Figure at 0x23c8019c198>"
      ]
     },
     "metadata": {},
     "output_type": "display_data"
    }
   ],
   "source": [
    "print(\"------------train------------\")\n",
    "show_some_letters(san2_train_dataset,san2_train_labels)\n",
    "print(\"------------test------------\")\n",
    "show_some_letters(san2_test_dataset,san2_test_labels)\n",
    "print(\"------------valid------------\")\n",
    "show_some_letters(san2_valid_dataset,san2_valid_labels)"
   ]
  },
  {
   "cell_type": "markdown",
   "metadata": {},
   "source": [
    "################################################################################################################################\n",
    "Got Bored. Everything From Here Until Problem 6 Does Not Work\n",
    "################################################################################################################################\n",
    "Now need to find similar images"
   ]
  },
  {
   "cell_type": "code",
   "execution_count": 22,
   "metadata": {
    "collapsed": true
   },
   "outputs": [],
   "source": [
    "def generate_cross_matrix(dataset):\n",
    "    cross_arr = np.zeros(shape = (len(dataset),image_size*2))    \n",
    "    for i in range(0,len(dataset)):\n",
    "        for j in range(0,image_size):\n",
    "            cross_arr[i][j] = dataset[i][j][j]\n",
    "            cross_arr[i][image_size-j-1] = dataset[i][j][image_size-j-1]\n",
    "    return cross_arr\n",
    "\n",
    "train_cross = generate_cross_matrix(san2_train_dataset)\n",
    "test_cross = generate_cross_matrix(san2_test_dataset)\n",
    "valid_cross = generate_cross_matrix(san2_valid_dataset)\n",
    "    "
   ]
  },
  {
   "cell_type": "raw",
   "metadata": {},
   "source": [
    "maybe remove exact copies from data.\n",
    "***********Got bored"
   ]
  },
  {
   "cell_type": "code",
   "execution_count": 23,
   "metadata": {
    "collapsed": true
   },
   "outputs": [],
   "source": [
    "#print(\"len(train_dataset[0]): \",len(train_dataset[0]))\n",
    "\n",
    "def similar_pixel_cross(cross_1,cross_2):\n",
    "    similar_bool = False\n",
    "    t0 = time()\n",
    "    if (np.absolute(cross_1-cross_2)<0.04).all():\n",
    "        similar_bool = True\n",
    "    return similar_bool\n",
    "\n",
    "def similar_images(img_1,img_2):\n",
    "    similar_bool = False\n",
    "    if (np.absolute(img_1-img_2)<0.04).all():\n",
    "        similar_bool =True\n",
    "    return similar_bool\n",
    "\n",
    "def similar_images_2(img_1,img_2):\n",
    "    similar_bool = False\n",
    "    if np.sum(np.absolute(img_1-img_2))<10:\n",
    "        similar_bool =True\n",
    "    return similar_bool\n",
    "\n",
    "def test_similar_overlap(dataset_1,dataset_2,cross_arr_1,cross_arr_2):\n",
    "    overlap_arr = []\n",
    "    overlap_count = 0\n",
    "    check_count = 0\n",
    "    t0 = time()\n",
    "    t1 = time()\n",
    "    for i in range(0,len(dataset_1)):\n",
    "        for j in range(0,len(dataset_2)):\n",
    "            if similar_pixel_cross(cross_arr_1[i],cross_arr_2[j]):\n",
    "                check_count +=1\n",
    "                if similar_images(dataset_1[i],dataset_2[j]):\n",
    "                    overlap_count += 1\n",
    "                    overlap_arr.append((i,j))\n",
    "        if (i+1)%100 ==0:\n",
    "            print(\"done_100: %d\"%(i+1), \"- Time: %0.3fs\"%(time()-t1),\" with %i overlaps so far\"%overlap_count)\n",
    "            t1=time()\n",
    "            print(\"check_count: \", check_count)\n",
    "    print(\"done_total. Time: %0.3fs\"%(time()-t0),\" with %i overlaps\"%overlap_count)\n",
    "    print(\"check_count: \", check_count)\n",
    "    return overlap_arr\n",
    "\n",
    "#test_valid_similar_overlap = test_similar_overlap(test_dataset,valid_dataset,test_cross,valid_cross)\n",
    "\n",
    "#train_test_similar_overlap = test_similar_overlap(train_dataset,test_dataset,train_cross,test_cross)\n",
    "#train_valid_similar_overlap = test_similar_overlap(train_dataset,valid_dataset,train_cross,valid_cross)\n",
    "\n",
    "#test_valid_overlap = test_overlap(test_mean,valid_mean,test_dataset,valid_dataset)\n",
    "#print(test_valid_overlap[0])\n",
    "\n",
    "#visual_2_letters(test_dataset[1420],valid_dataset[58])\n",
    "#similar_images(test_dataset[58],valid_dataset[1420])\n"
   ]
  },
  {
   "cell_type": "markdown",
   "metadata": {},
   "source": [
    "aborted the whole thing"
   ]
  },
  {
   "cell_type": "code",
   "execution_count": 24,
   "metadata": {},
   "outputs": [
    {
     "name": "stdout",
     "output_type": "stream",
     "text": [
      "---calculating test_valid_near_overlap---\n"
     ]
    },
    {
     "ename": "KeyboardInterrupt",
     "evalue": "",
     "output_type": "error",
     "traceback": [
      "\u001b[1;31m---------------------------------------------------------------------------\u001b[0m",
      "\u001b[1;31mKeyboardInterrupt\u001b[0m                         Traceback (most recent call last)",
      "\u001b[1;32m<ipython-input-24-d7daa11eac3a>\u001b[0m in \u001b[0;36m<module>\u001b[1;34m()\u001b[0m\n\u001b[0;32m     45\u001b[0m \u001b[1;33m\u001b[0m\u001b[0m\n\u001b[0;32m     46\u001b[0m \u001b[0mprint\u001b[0m\u001b[1;33m(\u001b[0m\u001b[1;34m\"---calculating test_valid_near_overlap---\"\u001b[0m\u001b[1;33m)\u001b[0m\u001b[1;33m\u001b[0m\u001b[0m\n\u001b[1;32m---> 47\u001b[1;33m \u001b[0mtest_valid_near_overlap\u001b[0m \u001b[1;33m=\u001b[0m \u001b[0mtest_similar_overlap_2\u001b[0m\u001b[1;33m(\u001b[0m\u001b[0msan2_test_mean\u001b[0m\u001b[1;33m,\u001b[0m\u001b[0msan2_valid_mean\u001b[0m\u001b[1;33m,\u001b[0m\u001b[0mtest_cross\u001b[0m\u001b[1;33m,\u001b[0m\u001b[0mvalid_cross\u001b[0m\u001b[1;33m,\u001b[0m\u001b[0msan2_test_dataset\u001b[0m\u001b[1;33m,\u001b[0m\u001b[0msan2_valid_dataset\u001b[0m\u001b[1;33m)\u001b[0m\u001b[1;33m\u001b[0m\u001b[0m\n\u001b[0m\u001b[0;32m     48\u001b[0m \u001b[0mprint\u001b[0m\u001b[1;33m(\u001b[0m\u001b[0mlen\u001b[0m\u001b[1;33m(\u001b[0m\u001b[0mtest_valid_near_overlap\u001b[0m\u001b[1;33m)\u001b[0m\u001b[1;33m)\u001b[0m\u001b[1;33m\u001b[0m\u001b[0m\n\u001b[0;32m     49\u001b[0m \u001b[1;33m\u001b[0m\u001b[0m\n",
      "\u001b[1;32m<ipython-input-24-d7daa11eac3a>\u001b[0m in \u001b[0;36mtest_similar_overlap_2\u001b[1;34m(mean_1, mean_2, cross_arr_1, cross_arr_2, dataset_1, dataset_2)\u001b[0m\n\u001b[0;32m     37\u001b[0m     \u001b[0mt0\u001b[0m \u001b[1;33m=\u001b[0m \u001b[0mtime\u001b[0m\u001b[1;33m(\u001b[0m\u001b[1;33m)\u001b[0m\u001b[1;33m\u001b[0m\u001b[0m\n\u001b[0;32m     38\u001b[0m     \u001b[0mt1\u001b[0m \u001b[1;33m=\u001b[0m \u001b[0mtime\u001b[0m\u001b[1;33m(\u001b[0m\u001b[1;33m)\u001b[0m\u001b[1;33m\u001b[0m\u001b[0m\n\u001b[1;32m---> 39\u001b[1;33m     \u001b[1;32mfor\u001b[0m \u001b[0mmatch\u001b[0m \u001b[1;32min\u001b[0m \u001b[0mmean_similar_overlap\u001b[0m\u001b[1;33m(\u001b[0m\u001b[0mmean_1\u001b[0m\u001b[1;33m,\u001b[0m\u001b[0mmean_2\u001b[0m\u001b[1;33m,\u001b[0m\u001b[1;36m0.04\u001b[0m\u001b[1;33m)\u001b[0m\u001b[1;33m:\u001b[0m\u001b[1;33m\u001b[0m\u001b[0m\n\u001b[0m\u001b[0;32m     40\u001b[0m         \u001b[1;32mif\u001b[0m \u001b[0msimilar_images_2\u001b[0m\u001b[1;33m(\u001b[0m\u001b[0mdataset_1\u001b[0m\u001b[1;33m[\u001b[0m\u001b[0mmatch\u001b[0m\u001b[1;33m[\u001b[0m\u001b[1;36m0\u001b[0m\u001b[1;33m]\u001b[0m\u001b[1;33m]\u001b[0m\u001b[1;33m,\u001b[0m\u001b[0mdataset_2\u001b[0m\u001b[1;33m[\u001b[0m\u001b[0mmatch\u001b[0m\u001b[1;33m[\u001b[0m\u001b[1;36m1\u001b[0m\u001b[1;33m]\u001b[0m\u001b[1;33m]\u001b[0m\u001b[1;33m)\u001b[0m\u001b[1;33m:\u001b[0m\u001b[1;33m\u001b[0m\u001b[0m\n\u001b[0;32m     41\u001b[0m             \u001b[0moverlap_count\u001b[0m \u001b[1;33m+=\u001b[0m\u001b[1;36m1\u001b[0m\u001b[1;33m\u001b[0m\u001b[0m\n",
      "\u001b[1;32m<ipython-input-24-d7daa11eac3a>\u001b[0m in \u001b[0;36mmean_similar_overlap\u001b[1;34m(mean_1, mean_2, margin)\u001b[0m\n\u001b[0;32m     20\u001b[0m                 \u001b[0moverlap_arr\u001b[0m\u001b[1;33m.\u001b[0m\u001b[0mappend\u001b[0m\u001b[1;33m(\u001b[0m\u001b[1;33m(\u001b[0m\u001b[0mindices_1\u001b[0m\u001b[1;33m[\u001b[0m\u001b[0mi\u001b[0m\u001b[1;33m]\u001b[0m\u001b[1;33m,\u001b[0m\u001b[0mindices_2\u001b[0m\u001b[1;33m[\u001b[0m\u001b[0msort_temp\u001b[0m\u001b[1;33m]\u001b[0m\u001b[1;33m)\u001b[0m\u001b[1;33m)\u001b[0m\u001b[1;33m\u001b[0m\u001b[0m\n\u001b[0;32m     21\u001b[0m \u001b[1;33m\u001b[0m\u001b[0m\n\u001b[1;32m---> 22\u001b[1;33m             \u001b[1;32mif\u001b[0m \u001b[0msorted_mean_1\u001b[0m\u001b[1;33m[\u001b[0m\u001b[0mi\u001b[0m\u001b[1;33m]\u001b[0m\u001b[1;33m<\u001b[0m \u001b[0msorted_mean_2\u001b[0m\u001b[1;33m[\u001b[0m\u001b[0msort_temp\u001b[0m\u001b[1;33m]\u001b[0m \u001b[1;32mor\u001b[0m \u001b[0msort_temp\u001b[0m \u001b[1;33m==\u001b[0m \u001b[0mlen\u001b[0m\u001b[1;33m(\u001b[0m\u001b[0msorted_mean_2\u001b[0m\u001b[1;33m)\u001b[0m\u001b[1;33m-\u001b[0m\u001b[1;36m1\u001b[0m\u001b[1;33m:\u001b[0m\u001b[1;33m\u001b[0m\u001b[0m\n\u001b[0m\u001b[0;32m     23\u001b[0m                 \u001b[0mexit\u001b[0m\u001b[1;33m=\u001b[0m\u001b[1;32mTrue\u001b[0m \u001b[1;31m###loop from last_smaller to first element larger or last element\u001b[0m\u001b[1;33m\u001b[0m\u001b[0m\n\u001b[0;32m     24\u001b[0m                 \u001b[1;31m#print(\"# \",sorted_mean_2[sort_temp]-margin - sorted_mean_1[i])\u001b[0m\u001b[1;33m\u001b[0m\u001b[1;33m\u001b[0m\u001b[0m\n",
      "\u001b[1;31mKeyboardInterrupt\u001b[0m: "
     ]
    }
   ],
   "source": [
    "def mean_similar_overlap(mean_1,mean_2,margin):\n",
    "    t0 = time()\n",
    "    overlap_arr = []\n",
    "    indices_1 = np.argsort(mean_1)\n",
    "    sorted_mean_1 = mean_1[indices_1]\n",
    "    \n",
    "    indices_2 = np.argsort(mean_2)\n",
    "    sorted_mean_2 = mean_2[indices_2]\n",
    "    \n",
    "    sort_temp = 0\n",
    "    last_smaller = 0\n",
    "    \n",
    "    for i in range(0,len(sorted_mean_1)):\n",
    "        #print(\"i: \",i)\n",
    "        exit = False\n",
    "        sort_temp = last_smaller\n",
    "        \n",
    "        while(exit == False):\n",
    "            if np.absolute(sorted_mean_1[i] - sorted_mean_2[sort_temp])<=margin:\n",
    "                overlap_arr.append((indices_1[i],indices_2[sort_temp]))                  \n",
    "            \n",
    "            if sorted_mean_1[i]< sorted_mean_2[sort_temp] or sort_temp == len(sorted_mean_2)-1:\n",
    "                exit=True ###loop from last_smaller to first element larger or last element\n",
    "                #print(\"# \",sorted_mean_2[sort_temp]-margin - sorted_mean_1[i])\n",
    "                \n",
    "            elif sorted_mean_2[sort_temp] == sorted_mean_2[max(sort_temp-1,0)] or sorted_mean_2[sort_temp]>sorted_mean_1[i]-margin:\n",
    "                sort_temp += 1\n",
    "            else:\n",
    "                last_smaller = sort_temp\n",
    "                sort_temp +=1\n",
    "    print(\"finished mean_similar no. similar = \",len(overlap_arr),\"time taken: \",time()-t0)    \n",
    "    return overlap_arr\n",
    "\n",
    "def test_similar_overlap_2(mean_1,mean_2,cross_arr_1,cross_arr_2,dataset_1,dataset_2):\n",
    "    overlap_arr = []\n",
    "    overlap_count = 0\n",
    "    t0 = time()\n",
    "    t1 = time()\n",
    "    for match in mean_similar_overlap(mean_1,mean_2,0.04):\n",
    "        if similar_images_2(dataset_1[match[0]],dataset_2[match[1]]):\n",
    "            overlap_count +=1\n",
    "            overlap_arr.append(match)\n",
    "    print(\"done_total. Time: %0.3fs\"%(time()-t0),\" with %i overlaps\"%overlap_count)\n",
    "    return overlap_arr\n",
    "\n",
    "print(\"---calculating test_valid_near_overlap---\")\n",
    "test_valid_near_overlap = test_similar_overlap_2(san2_test_mean,san2_valid_mean,test_cross,valid_cross,san2_test_dataset,san2_valid_dataset)\n",
    "print(len(test_valid_near_overlap))\n",
    "                \n",
    "            \n",
    "            \n",
    "            \n",
    "    \n"
   ]
  },
  {
   "cell_type": "code",
   "execution_count": null,
   "metadata": {
    "collapsed": true
   },
   "outputs": [],
   "source": [
    "#compare_pixel_cross(test_dataset[0],valid_dataset[0])\n",
    "print(len(train_test_overlap),len(train_valid_overlap),len(test_valid_overlap))"
   ]
  },
  {
   "cell_type": "markdown",
   "metadata": {
    "colab_type": "text",
    "id": "L8oww1s4JMQx"
   },
   "source": [
    "---\n",
    "Problem 6\n",
    "---------\n",
    "\n",
    "Let's get an idea of what an off-the-shelf classifier can give you on this data. It's always good to check that there is something to learn, and that it's a problem that is not so trivial that a canned solution solves it.\n",
    "\n",
    "Train a simple model on this data using 50, 100, 1000 and 5000 training samples. Hint: you can use the LogisticRegression model from sklearn.linear_model.\n",
    "\n",
    "Optional question: train an off-the-shelf model on all the data!\n",
    "\n",
    "---"
   ]
  },
  {
   "cell_type": "code",
   "execution_count": 32,
   "metadata": {},
   "outputs": [
    {
     "name": "stdout",
     "output_type": "stream",
     "text": [
      "lr_50 score:  0.451997554015\n",
      "lr_50 time 0.090s\n",
      "lr_100 score:  0.64543416225\n",
      "lr_100 time 0.182s\n",
      "lr_1000 score:  0.755299633102\n",
      "lr_1000 time 2.861s\n",
      "lr_5000 score:  0.77466367713\n",
      "lr_5000 time 22.311s\n",
      "lr_10000 score:  0.78913575214\n",
      "lr_10000 time 67.987s\n",
      "lr_all score:  0.82399103139\n",
      "lr_all time 2133.432s\n",
      "lr_5000_unsanitisied score:  0.7761\n",
      "lr_5000_unsanitised time 26.283s\n"
     ]
    }
   ],
   "source": [
    "t0 = time()\n",
    "\n",
    "shape = san2_train_dataset.shape\n",
    "train_data = san2_train_dataset.reshape((shape[0],shape[1]*shape[2]))\n",
    "shape = san2_valid_dataset.shape\n",
    "valid_data = san2_valid_dataset.reshape((shape[0],shape[1]*shape[2]))\n",
    "\n",
    "lr_50 = LogisticRegression()\n",
    "lr_50.fit(train_data[:50],san2_train_labels[:50])\n",
    "print(\"lr_50 score: \",lr_50.score(valid_data,san2_valid_labels))\n",
    "print(\"lr_50 time %0.3fs\"%(time()-t0))\n",
    "t0=time()\n",
    "\n",
    "lr_100 = LogisticRegression()\n",
    "lr_100.fit(train_data[:100],san2_train_labels[:100])\n",
    "print(\"lr_100 score: \",lr_100.score(valid_data,san2_valid_labels))\n",
    "print(\"lr_100 time %0.3fs\"%(time()-t0))\n",
    "t0=time()\n",
    "\n",
    "lr_1000 = LogisticRegression()\n",
    "lr_1000.fit(train_data[:1000],san2_train_labels[:1000])\n",
    "print(\"lr_1000 score: \",lr_1000.score(valid_data,san2_valid_labels))\n",
    "print(\"lr_1000 time %0.3fs\"%(time()-t0))\n",
    "t0=time()\n",
    "\n",
    "lr_5000 = LogisticRegression()\n",
    "lr_5000.fit(train_data[:5000],san2_train_labels[:5000])\n",
    "print(\"lr_5000 score: \",lr_5000.score(valid_data,san2_valid_labels))\n",
    "print(\"lr_5000 time %0.3fs\"%(time()-t0))\n",
    "t0=time()\n",
    "\n",
    "lr_10000 = LogisticRegression()\n",
    "lr_10000.fit(train_data[:10000],san2_train_labels[:10000])\n",
    "print(\"lr_10000 score: \",lr_10000.score(valid_data,san2_valid_labels))\n",
    "print(\"lr_10000 time %0.3fs\"%(time()-t0))\n",
    "t0=time()\n",
    "\n",
    "lr_all = LogisticRegression()\n",
    "lr_all.fit(train_data,san2_train_labels)\n",
    "print(\"lr_all score: \",lr_all.score(valid_data,san2_valid_labels))\n",
    "print(\"lr_all time %0.3fs\"%(time()-t0))\n",
    "t0=time()\n",
    "\n",
    "lr_5000_unsan = LogisticRegression()\n",
    "shape = train_dataset.shape\n",
    "train_data_unsan = train_dataset.reshape((shape[0],shape[1]*shape[2]))\n",
    "shape = valid_dataset.shape\n",
    "unsan_valid_data = valid_dataset.reshape((shape[0],shape[1]*shape[2]))\n",
    "lr_5000_unsan.fit(train_data_unsan[:5000],train_labels[:5000])\n",
    "print(\"lr_5000_unsanitisied score: \",lr_5000.score(unsan_valid_data,valid_labels))\n",
    "print(\"lr_5000_unsanitised time %0.3fs\"%(time()-t0))\n",
    "t0=time()"
   ]
  },
  {
   "cell_type": "markdown",
   "metadata": {},
   "source": [
    "can the paramaters of the logistic regression be tuned to get a higher than 82% accuracy? Also what about the testing data?"
   ]
  },
  {
   "cell_type": "code",
   "execution_count": 33,
   "metadata": {},
   "outputs": [
    {
     "name": "stdout",
     "output_type": "stream",
     "text": [
      "lr_all score:  0.893161953728\n"
     ]
    }
   ],
   "source": [
    "shape = san2_test_dataset.shape\n",
    "test_data = san2_test_dataset.reshape((shape[0],shape[1]*shape[2]))\n",
    "print(\"lr_all score: \",lr_all.score(test_data,san2_test_labels))"
   ]
  },
  {
   "cell_type": "code",
   "execution_count": 31,
   "metadata": {},
   "outputs": [
    {
     "name": "stdout",
     "output_type": "stream",
     "text": [
      "lr_0.005 score:  0.783938035059\n",
      "lr_0.010 score:  0.786384019568\n",
      "lr_0.015 score:  0.788116591928\n",
      "lr_0.020 score:  0.788320423971\n",
      "lr_0.025 score:  0.788830004077\n",
      "lr_0.030 score:  0.787912759886\n",
      "lr_0.035 score:  0.788116591928\n",
      "lr_0.040 score:  0.788218507949\n",
      "lr_0.045 score:  0.788116591928\n",
      "lr_0.050 score:  0.788320423971\n",
      "lr_0.055 score:  0.788320423971\n",
      "lr_0.060 score:  0.786893599674\n",
      "lr_0.065 score:  0.786995515695\n",
      "lr_0.070 score:  0.786485935589\n",
      "lr_0.075 score:  0.785772523441\n",
      "lr_0.080 score:  0.785670607419\n",
      "lr_0.085 score:  0.784549531186\n",
      "lr_0.090 score:  0.784243783123\n",
      "lr_0.095 score:  0.783632286996\n",
      "lr_0.100 score:  0.783938035059\n"
     ]
    }
   ],
   "source": [
    "for i in range(0,20):\n",
    "    param_c = float(i+1)/200\n",
    "    lr = LogisticRegression(C=param_c)\n",
    "    lr.fit(train_data[:1000],san2_train_labels[:1000])\n",
    "    print(\"lr_%0.3f score: \"%param_c,lr.score(valid_data,san2_valid_labels))\n",
    "  "
   ]
  },
  {
   "cell_type": "code",
   "execution_count": 34,
   "metadata": {},
   "outputs": [
    {
     "name": "stdout",
     "output_type": "stream",
     "text": [
      "lr_all_025 score:  0.82399103139\n",
      "lr_all_025 time 1895.232s\n"
     ]
    }
   ],
   "source": [
    "lr_all_025 = LogisticRegression()\n",
    "lr_all_025.fit(train_data,san2_train_labels)\n",
    "print(\"lr_all_025 score: \",lr_all_025.score(valid_data,san2_valid_labels))\n",
    "print(\"lr_all_025 time %0.3fs\"%(time()-t0))\n",
    "t0=time()"
   ]
  },
  {
   "cell_type": "markdown",
   "metadata": {},
   "source": [
    "Now to save my sanitised data"
   ]
  },
  {
   "cell_type": "code",
   "execution_count": 35,
   "metadata": {
    "collapsed": true
   },
   "outputs": [],
   "source": [
    "pickle_file = os.path.join(data_root, 'san_notMNIST.pickle')\n",
    "\n",
    "try:\n",
    "  f = open(pickle_file, 'wb')\n",
    "  save = {\n",
    "    'train_dataset': san2_train_dataset,\n",
    "    'train_labels': san2_train_labels,\n",
    "    'valid_dataset': san2_valid_dataset,\n",
    "    'valid_labels': san2_valid_labels,\n",
    "    'test_dataset': san2_test_dataset,\n",
    "    'test_labels': san2_test_labels,\n",
    "    }\n",
    "  pickle.dump(save, f, pickle.HIGHEST_PROTOCOL)\n",
    "  f.close()\n",
    "except Exception as e:\n",
    "  print('Unable to save data to', pickle_file, ':', e)\n",
    "  raise"
   ]
  },
  {
   "cell_type": "code",
   "execution_count": 36,
   "metadata": {},
   "outputs": [
    {
     "name": "stdout",
     "output_type": "stream",
     "text": [
      "Compressed pickle size: 645587646\n"
     ]
    }
   ],
   "source": [
    "statinfo = os.stat(pickle_file)\n",
    "print('Compressed pickle size:', statinfo.st_size)"
   ]
  }
 ],
 "metadata": {
  "colab": {
   "default_view": {},
   "name": "1_notmnist.ipynb",
   "provenance": [],
   "version": "0.3.2",
   "views": {}
  },
  "kernelspec": {
   "display_name": "Python 3",
   "language": "python",
   "name": "python3"
  },
  "language_info": {
   "codemirror_mode": {
    "name": "ipython",
    "version": 3
   },
   "file_extension": ".py",
   "mimetype": "text/x-python",
   "name": "python",
   "nbconvert_exporter": "python",
   "pygments_lexer": "ipython3",
   "version": "3.6.3"
  }
 },
 "nbformat": 4,
 "nbformat_minor": 1
}
